{
 "cells": [
  {
   "cell_type": "code",
   "execution_count": 1,
   "metadata": {},
   "outputs": [
    {
     "name": "stderr",
     "output_type": "stream",
     "text": [
      "Using TensorFlow backend.\n"
     ]
    }
   ],
   "source": [
    "import pandas as pd\n",
    "\n",
    "from sklearn.preprocessing import LabelBinarizer\n",
    "\n",
    "from keras.preprocessing import text, sequence\n",
    "from keras.preprocessing.text import Tokenizer\n",
    "from sklearn.model_selection import train_test_split\n",
    "\n",
    "from keras.models import Sequential\n",
    "from keras.layers import Dense, Conv1D, MaxPooling1D, Flatten\n",
    "from keras.layers import LSTM\n",
    "from keras.layers.embeddings import Embedding\n",
    "\n",
    "from sklearn.metrics import confusion_matrix, accuracy_score, classification_report\n",
    "import numpy as np\n",
    "\n",
    "%matplotlib inline"
   ]
  },
  {
   "cell_type": "code",
   "execution_count": 2,
   "metadata": {},
   "outputs": [
    {
     "data": {
      "text/html": [
       "<div>\n",
       "<style scoped>\n",
       "    .dataframe tbody tr th:only-of-type {\n",
       "        vertical-align: middle;\n",
       "    }\n",
       "\n",
       "    .dataframe tbody tr th {\n",
       "        vertical-align: top;\n",
       "    }\n",
       "\n",
       "    .dataframe thead th {\n",
       "        text-align: right;\n",
       "    }\n",
       "</style>\n",
       "<table border=\"1\" class=\"dataframe\">\n",
       "  <thead>\n",
       "    <tr style=\"text-align: right;\">\n",
       "      <th></th>\n",
       "      <th>structureId</th>\n",
       "      <th>classification</th>\n",
       "      <th>macromoleculeType</th>\n",
       "      <th>sequence</th>\n",
       "    </tr>\n",
       "  </thead>\n",
       "  <tbody>\n",
       "    <tr>\n",
       "      <th>0</th>\n",
       "      <td>100D</td>\n",
       "      <td>DNA-RNA HYBRID</td>\n",
       "      <td>DNA/RNA Hybrid</td>\n",
       "      <td>CCGGCGCCGG</td>\n",
       "    </tr>\n",
       "    <tr>\n",
       "      <th>1</th>\n",
       "      <td>100D</td>\n",
       "      <td>DNA-RNA HYBRID</td>\n",
       "      <td>DNA/RNA Hybrid</td>\n",
       "      <td>CCGGCGCCGG</td>\n",
       "    </tr>\n",
       "    <tr>\n",
       "      <th>2</th>\n",
       "      <td>101D</td>\n",
       "      <td>DNA</td>\n",
       "      <td>DNA</td>\n",
       "      <td>CGCGAATTCGCG</td>\n",
       "    </tr>\n",
       "    <tr>\n",
       "      <th>3</th>\n",
       "      <td>101D</td>\n",
       "      <td>DNA</td>\n",
       "      <td>DNA</td>\n",
       "      <td>CGCGAATTCGCG</td>\n",
       "    </tr>\n",
       "    <tr>\n",
       "      <th>4</th>\n",
       "      <td>101M</td>\n",
       "      <td>OXYGEN TRANSPORT</td>\n",
       "      <td>Protein</td>\n",
       "      <td>MVLSEGEWQLVLHVWAKVEADVAGHGQDILIRLFKSHPETLEKFDR...</td>\n",
       "    </tr>\n",
       "  </tbody>\n",
       "</table>\n",
       "</div>"
      ],
      "text/plain": [
       "  structureId    classification macromoleculeType  \\\n",
       "0        100D    DNA-RNA HYBRID    DNA/RNA Hybrid   \n",
       "1        100D    DNA-RNA HYBRID    DNA/RNA Hybrid   \n",
       "2        101D               DNA               DNA   \n",
       "3        101D               DNA               DNA   \n",
       "4        101M  OXYGEN TRANSPORT           Protein   \n",
       "\n",
       "                                            sequence  \n",
       "0                                         CCGGCGCCGG  \n",
       "1                                         CCGGCGCCGG  \n",
       "2                                       CGCGAATTCGCG  \n",
       "3                                       CGCGAATTCGCG  \n",
       "4  MVLSEGEWQLVLHVWAKVEADVAGHGQDILIRLFKSHPETLEKFDR...  "
      ]
     },
     "execution_count": 2,
     "metadata": {},
     "output_type": "execute_result"
    }
   ],
   "source": [
    "df1 = pd.read_csv('/storage/pdb/pdb_data_no_dups.csv')\n",
    "df2 = pd.read_csv('/storage/pdb/pdb_data_seq.csv')\n",
    "df = pd.merge(df1[['structureId','classification','macromoleculeType']], df2[['sequence','structureId']], on='structureId', how='inner')\n",
    "df.head()\n"
   ]
  },
  {
   "cell_type": "code",
   "execution_count": 3,
   "metadata": {},
   "outputs": [
    {
     "data": {
      "text/html": [
       "<div>\n",
       "<style scoped>\n",
       "    .dataframe tbody tr th:only-of-type {\n",
       "        vertical-align: middle;\n",
       "    }\n",
       "\n",
       "    .dataframe tbody tr th {\n",
       "        vertical-align: top;\n",
       "    }\n",
       "\n",
       "    .dataframe thead th {\n",
       "        text-align: right;\n",
       "    }\n",
       "</style>\n",
       "<table border=\"1\" class=\"dataframe\">\n",
       "  <thead>\n",
       "    <tr style=\"text-align: right;\">\n",
       "      <th></th>\n",
       "      <th>structureId</th>\n",
       "      <th>classification</th>\n",
       "      <th>macromoleculeType</th>\n",
       "      <th>sequence</th>\n",
       "    </tr>\n",
       "  </thead>\n",
       "  <tbody>\n",
       "    <tr>\n",
       "      <th>0</th>\n",
       "      <td>101M</td>\n",
       "      <td>OXYGEN TRANSPORT</td>\n",
       "      <td>Protein</td>\n",
       "      <td>MVLSEGEWQLVLHVWAKVEADVAGHGQDILIRLFKSHPETLEKFDR...</td>\n",
       "    </tr>\n",
       "    <tr>\n",
       "      <th>1</th>\n",
       "      <td>102L</td>\n",
       "      <td>HYDROLASE(O-GLYCOSYL)</td>\n",
       "      <td>Protein</td>\n",
       "      <td>MNIFEMLRIDEGLRLKIYKDTEGYYTIGIGHLLTKSPSLNAAAKSE...</td>\n",
       "    </tr>\n",
       "    <tr>\n",
       "      <th>2</th>\n",
       "      <td>102M</td>\n",
       "      <td>OXYGEN TRANSPORT</td>\n",
       "      <td>Protein</td>\n",
       "      <td>MVLSEGEWQLVLHVWAKVEADVAGHGQDILIRLFKSHPETLEKFDR...</td>\n",
       "    </tr>\n",
       "    <tr>\n",
       "      <th>3</th>\n",
       "      <td>103L</td>\n",
       "      <td>HYDROLASE(O-GLYCOSYL)</td>\n",
       "      <td>Protein</td>\n",
       "      <td>MNIFEMLRIDEGLRLKIYKDTEGYYTIGIGHLLTKSPSLNSLDAAK...</td>\n",
       "    </tr>\n",
       "    <tr>\n",
       "      <th>4</th>\n",
       "      <td>103M</td>\n",
       "      <td>OXYGEN TRANSPORT</td>\n",
       "      <td>Protein</td>\n",
       "      <td>MVLSEGEWQLVLHVWAKVEADVAGHGQDILIRLFKSHPETLEKFDR...</td>\n",
       "    </tr>\n",
       "  </tbody>\n",
       "</table>\n",
       "</div>"
      ],
      "text/plain": [
       "  structureId         classification macromoleculeType  \\\n",
       "0        101M       OXYGEN TRANSPORT           Protein   \n",
       "1        102L  HYDROLASE(O-GLYCOSYL)           Protein   \n",
       "2        102M       OXYGEN TRANSPORT           Protein   \n",
       "3        103L  HYDROLASE(O-GLYCOSYL)           Protein   \n",
       "4        103M       OXYGEN TRANSPORT           Protein   \n",
       "\n",
       "                                            sequence  \n",
       "0  MVLSEGEWQLVLHVWAKVEADVAGHGQDILIRLFKSHPETLEKFDR...  \n",
       "1  MNIFEMLRIDEGLRLKIYKDTEGYYTIGIGHLLTKSPSLNAAAKSE...  \n",
       "2  MVLSEGEWQLVLHVWAKVEADVAGHGQDILIRLFKSHPETLEKFDR...  \n",
       "3  MNIFEMLRIDEGLRLKIYKDTEGYYTIGIGHLLTKSPSLNSLDAAK...  \n",
       "4  MVLSEGEWQLVLHVWAKVEADVAGHGQDILIRLFKSHPETLEKFDR...  "
      ]
     },
     "execution_count": 3,
     "metadata": {},
     "output_type": "execute_result"
    }
   ],
   "source": [
    "df = df[df['macromoleculeType'] == 'Protein']\n",
    "df.reset_index(inplace=True, drop=True)\n",
    "df.head()"
   ]
  },
  {
   "cell_type": "code",
   "execution_count": 4,
   "metadata": {},
   "outputs": [
    {
     "name": "stdout",
     "output_type": "stream",
     "text": [
      "<class 'pandas.core.frame.DataFrame'>\n",
      "RangeIndex: 110228 entries, 0 to 110227\n",
      "Data columns (total 4 columns):\n",
      "structureId          110228 non-null object\n",
      "classification       110228 non-null object\n",
      "macromoleculeType    110228 non-null object\n",
      "sequence             110227 non-null object\n",
      "dtypes: object(4)\n",
      "memory usage: 3.4+ MB\n"
     ]
    }
   ],
   "source": [
    "df.info()"
   ]
  },
  {
   "cell_type": "code",
   "execution_count": 5,
   "metadata": {},
   "outputs": [
    {
     "name": "stdout",
     "output_type": "stream",
     "text": [
      "<class 'pandas.core.frame.DataFrame'>\n",
      "Int64Index: 110227 entries, 0 to 110227\n",
      "Data columns (total 4 columns):\n",
      "structureId          110227 non-null object\n",
      "classification       110227 non-null object\n",
      "macromoleculeType    110227 non-null object\n",
      "sequence             110227 non-null object\n",
      "dtypes: object(4)\n",
      "memory usage: 4.2+ MB\n"
     ]
    }
   ],
   "source": [
    "df.dropna(axis=0, inplace=True)\n",
    "df.info()"
   ]
  },
  {
   "cell_type": "code",
   "execution_count": 6,
   "metadata": {},
   "outputs": [
    {
     "data": {
      "text/html": [
       "<div>\n",
       "<style scoped>\n",
       "    .dataframe tbody tr th:only-of-type {\n",
       "        vertical-align: middle;\n",
       "    }\n",
       "\n",
       "    .dataframe tbody tr th {\n",
       "        vertical-align: top;\n",
       "    }\n",
       "\n",
       "    .dataframe thead th {\n",
       "        text-align: right;\n",
       "    }\n",
       "</style>\n",
       "<table border=\"1\" class=\"dataframe\">\n",
       "  <thead>\n",
       "    <tr style=\"text-align: right;\">\n",
       "      <th></th>\n",
       "      <th>structureId</th>\n",
       "      <th>classification</th>\n",
       "      <th>macromoleculeType</th>\n",
       "      <th>sequence</th>\n",
       "    </tr>\n",
       "  </thead>\n",
       "  <tbody>\n",
       "    <tr>\n",
       "      <th>0</th>\n",
       "      <td>101M</td>\n",
       "      <td>oxygen transport</td>\n",
       "      <td>Protein</td>\n",
       "      <td>MVLSEGEWQLVLHVWAKVEADVAGHGQDILIRLFKSHPETLEKFDR...</td>\n",
       "    </tr>\n",
       "    <tr>\n",
       "      <th>1</th>\n",
       "      <td>102L</td>\n",
       "      <td>hydrolase/o-glycosyl</td>\n",
       "      <td>Protein</td>\n",
       "      <td>MNIFEMLRIDEGLRLKIYKDTEGYYTIGIGHLLTKSPSLNAAAKSE...</td>\n",
       "    </tr>\n",
       "    <tr>\n",
       "      <th>2</th>\n",
       "      <td>102M</td>\n",
       "      <td>oxygen transport</td>\n",
       "      <td>Protein</td>\n",
       "      <td>MVLSEGEWQLVLHVWAKVEADVAGHGQDILIRLFKSHPETLEKFDR...</td>\n",
       "    </tr>\n",
       "  </tbody>\n",
       "</table>\n",
       "</div>"
      ],
      "text/plain": [
       "  structureId        classification macromoleculeType  \\\n",
       "0        101M      oxygen transport           Protein   \n",
       "1        102L  hydrolase/o-glycosyl           Protein   \n",
       "2        102M      oxygen transport           Protein   \n",
       "\n",
       "                                            sequence  \n",
       "0  MVLSEGEWQLVLHVWAKVEADVAGHGQDILIRLFKSHPETLEKFDR...  \n",
       "1  MNIFEMLRIDEGLRLKIYKDTEGYYTIGIGHLLTKSPSLNAAAKSE...  \n",
       "2  MVLSEGEWQLVLHVWAKVEADVAGHGQDILIRLFKSHPETLEKFDR...  "
      ]
     },
     "execution_count": 6,
     "metadata": {},
     "output_type": "execute_result"
    }
   ],
   "source": [
    "df['classification'] = df['classification'].astype('str')\n",
    "df = df[df['macromoleculeType'] == \"Protein\"]\n",
    "df.reset_index(inplace=True, drop=True)\n",
    "\n",
    "df['classification'] = df['classification'].str.lower()\n",
    "df['classification'] = df['classification'].str.replace('(', '/')\n",
    "df['classification'] = df['classification'].str.replace(',', '/')\n",
    "df['classification'] = df['classification'].str.replace(', ', '/')\n",
    "df['classification'] = df['classification'].str.replace('/ ', '/')\n",
    "df['classification'] = df['classification'].str.replace(')', '')\n",
    "# pattern = '|'.join([', ', ',', '('])\n",
    "# df['classification'] = df['classification'].str.replace(pattern, '/')\n",
    "\n",
    "# Maintaing class ordering. There are the same classes with different order \n",
    "#ex. viral protein/immune system and immune system/viral protein\n",
    "df['classification'] = df['classification'].apply(lambda x:\"/\".join(sorted(x.split('/'))))\n",
    "\n",
    "df.head(3)"
   ]
  },
  {
   "cell_type": "code",
   "execution_count": 7,
   "metadata": {},
   "outputs": [
    {
     "name": "stdout",
     "output_type": "stream",
     "text": [
      "<class 'pandas.core.frame.DataFrame'>\n",
      "RangeIndex: 110227 entries, 0 to 110226\n",
      "Data columns (total 4 columns):\n",
      "structureId          110227 non-null object\n",
      "classification       110227 non-null object\n",
      "macromoleculeType    110227 non-null object\n",
      "sequence             110227 non-null object\n",
      "dtypes: object(4)\n",
      "memory usage: 3.4+ MB\n"
     ]
    }
   ],
   "source": [
    "df.info()"
   ]
  },
  {
   "cell_type": "code",
   "execution_count": 8,
   "metadata": {},
   "outputs": [
    {
     "data": {
      "text/plain": [
       "{'hydrolase': 1,\n",
       " 'transferase': 2,\n",
       " 'oxidoreductase': 3,\n",
       " 'lyase': 4,\n",
       " 'immune system': 5,\n",
       " 'structural genomics/unknown function': 6,\n",
       " 'transcription': 7,\n",
       " 'hydrolase/hydrolase inhibitor': 8,\n",
       " 'isomerase': 9,\n",
       " 'signaling protein': 10,\n",
       " 'viral protein': 11,\n",
       " 'transport protein': 12,\n",
       " 'ligase': 13,\n",
       " 'electron transport': 14,\n",
       " 'membrane protein': 15,\n",
       " 'toxin': 16,\n",
       " 'chaperone': 17,\n",
       " 'dna binding protein': 18,\n",
       " 'structural protein': 19,\n",
       " 'sugar binding protein': 20,\n",
       " 'metal binding protein': 21,\n",
       " 'protein binding': 22,\n",
       " 'virus': 23,\n",
       " 'unknown function': 24,\n",
       " 'photosynthesis': 25,\n",
       " 'contractile protein': 26,\n",
       " 'cell adhesion': 27,\n",
       " 'oxygen storage/transport': 28,\n",
       " 'protein transport': 29,\n",
       " 'rna binding protein': 30,\n",
       " 'growth factor/hormone': 31,\n",
       " 'hormone': 32,\n",
       " 'cell cycle': 33,\n",
       " 'metal transport': 34,\n",
       " 'oxygen transport': 35,\n",
       " 'apoptosis': 36,\n",
       " 'blood clotting': 37,\n",
       " 'gene regulation': 38,\n",
       " 'biosynthetic protein': 39,\n",
       " 'lectin': 40,\n",
       " 'de novo protein': 41,\n",
       " 'immunoglobulin': 42,\n",
       " 'translation': 43,\n",
       " 'cytokine': 44,\n",
       " 'antimicrobial protein': 45,\n",
       " 'lipid binding protein': 46,\n",
       " 'luminescent protein': 47,\n",
       " 'plant protein': 48,\n",
       " 'antibiotic': 49,\n",
       " 'protein fibril': 50,\n",
       " 'peptide binding protein': 51,\n",
       " 'hydrolase /o-glycosyl': 52,\n",
       " 'hydrolase inhibitor': 53,\n",
       " 'replication': 54,\n",
       " 'endocytosis/exocytosis': 55,\n",
       " 'receptor': 56,\n",
       " 'immune system/viral protein': 57,\n",
       " 'signaling protein/transferase': 58,\n",
       " 'transcription regulation': 59,\n",
       " 'hydrolase/immune system': 60,\n",
       " 'electron transport/oxidoreductase': 61,\n",
       " 'phosphotransferase': 62,\n",
       " 'transcription regulator': 63,\n",
       " 'biotin-binding protein': 64,\n",
       " 'hydrolase/o-glycosyl': 65,\n",
       " 'hydrolase/hydrolase activator': 66,\n",
       " 'lipid transport': 67,\n",
       " 'glycoprotein': 68,\n",
       " 'flavoprotein': 69,\n",
       " 'hydrolase/protein binding': 70,\n",
       " 'transferase/transferase inhibitor': 71,\n",
       " 'growth factor': 72,\n",
       " 'immunosuppressant/isomerase': 73,\n",
       " 'growth factor receptor/hormone': 74,\n",
       " 'transport': 75,\n",
       " 'nuclear protein': 76,\n",
       " 'allergen': 77,\n",
       " 'ligand binding protein': 78,\n",
       " 'calcium-binding protein': 79,\n",
       " 'hydrolase/inhibitor': 80,\n",
       " 'endonuclease': 81,\n",
       " 'serine protease': 82,\n",
       " 'fluorescent protein': 83,\n",
       " 'viral protein/virus': 84,\n",
       " 'enterotoxin': 85}"
      ]
     },
     "execution_count": 8,
     "metadata": {},
     "output_type": "execute_result"
    }
   ],
   "source": [
    "class_dict = dict()\n",
    "count = 1\n",
    "\n",
    "classes = df['classification'].value_counts().items()\n",
    "\n",
    "for cat, num in classes:\n",
    "    \n",
    "    # Remove all other classes that have less than 100 number of values \n",
    "    if num < 100:\n",
    "        temp = df['classification'] == cat\n",
    "        df = df[~temp].copy()\n",
    "        continue\n",
    "        \n",
    "        \n",
    "        \n",
    "    if num >= 100:\n",
    "        class_dict[cat] = count\n",
    "        count += 1\n",
    "\n",
    "class_dict"
   ]
  },
  {
   "cell_type": "code",
   "execution_count": 9,
   "metadata": {},
   "outputs": [
    {
     "data": {
      "text/html": [
       "<div>\n",
       "<style scoped>\n",
       "    .dataframe tbody tr th:only-of-type {\n",
       "        vertical-align: middle;\n",
       "    }\n",
       "\n",
       "    .dataframe tbody tr th {\n",
       "        vertical-align: top;\n",
       "    }\n",
       "\n",
       "    .dataframe thead th {\n",
       "        text-align: right;\n",
       "    }\n",
       "</style>\n",
       "<table border=\"1\" class=\"dataframe\">\n",
       "  <thead>\n",
       "    <tr style=\"text-align: right;\">\n",
       "      <th></th>\n",
       "      <th>structureId</th>\n",
       "      <th>classification</th>\n",
       "      <th>macromoleculeType</th>\n",
       "      <th>sequence</th>\n",
       "    </tr>\n",
       "  </thead>\n",
       "  <tbody>\n",
       "    <tr>\n",
       "      <th>0</th>\n",
       "      <td>101M</td>\n",
       "      <td>oxygen transport</td>\n",
       "      <td>Protein</td>\n",
       "      <td>MVLSEGEWQLVLHVWAKVEADVAGHGQDILIRLFKSHPETLEKFDR...</td>\n",
       "    </tr>\n",
       "    <tr>\n",
       "      <th>1</th>\n",
       "      <td>102L</td>\n",
       "      <td>hydrolase/o-glycosyl</td>\n",
       "      <td>Protein</td>\n",
       "      <td>MNIFEMLRIDEGLRLKIYKDTEGYYTIGIGHLLTKSPSLNAAAKSE...</td>\n",
       "    </tr>\n",
       "    <tr>\n",
       "      <th>2</th>\n",
       "      <td>102M</td>\n",
       "      <td>oxygen transport</td>\n",
       "      <td>Protein</td>\n",
       "      <td>MVLSEGEWQLVLHVWAKVEADVAGHGQDILIRLFKSHPETLEKFDR...</td>\n",
       "    </tr>\n",
       "    <tr>\n",
       "      <th>3</th>\n",
       "      <td>103L</td>\n",
       "      <td>hydrolase/o-glycosyl</td>\n",
       "      <td>Protein</td>\n",
       "      <td>MNIFEMLRIDEGLRLKIYKDTEGYYTIGIGHLLTKSPSLNSLDAAK...</td>\n",
       "    </tr>\n",
       "    <tr>\n",
       "      <th>4</th>\n",
       "      <td>103M</td>\n",
       "      <td>oxygen transport</td>\n",
       "      <td>Protein</td>\n",
       "      <td>MVLSEGEWQLVLHVWAKVEADVAGHGQDILIRLFKSHPETLEKFDR...</td>\n",
       "    </tr>\n",
       "  </tbody>\n",
       "</table>\n",
       "</div>"
      ],
      "text/plain": [
       "  structureId        classification macromoleculeType  \\\n",
       "0        101M      oxygen transport           Protein   \n",
       "1        102L  hydrolase/o-glycosyl           Protein   \n",
       "2        102M      oxygen transport           Protein   \n",
       "3        103L  hydrolase/o-glycosyl           Protein   \n",
       "4        103M      oxygen transport           Protein   \n",
       "\n",
       "                                            sequence  \n",
       "0  MVLSEGEWQLVLHVWAKVEADVAGHGQDILIRLFKSHPETLEKFDR...  \n",
       "1  MNIFEMLRIDEGLRLKIYKDTEGYYTIGIGHLLTKSPSLNAAAKSE...  \n",
       "2  MVLSEGEWQLVLHVWAKVEADVAGHGQDILIRLFKSHPETLEKFDR...  \n",
       "3  MNIFEMLRIDEGLRLKIYKDTEGYYTIGIGHLLTKSPSLNSLDAAK...  \n",
       "4  MVLSEGEWQLVLHVWAKVEADVAGHGQDILIRLFKSHPETLEKFDR...  "
      ]
     },
     "execution_count": 9,
     "metadata": {},
     "output_type": "execute_result"
    }
   ],
   "source": [
    "df.head()"
   ]
  },
  {
   "cell_type": "code",
   "execution_count": 10,
   "metadata": {},
   "outputs": [],
   "source": [
    "# Transform labels to one-hot\n",
    "lb = LabelBinarizer()\n",
    "Y = lb.fit_transform(df.classification)"
   ]
  },
  {
   "cell_type": "code",
   "execution_count": 11,
   "metadata": {},
   "outputs": [],
   "source": [
    "max_length = 512 #100 # discared after 512 length\n",
    "seqs = df.sequence.values\n",
    "#create and fit tokenizer\n",
    "tokenizer = Tokenizer(char_level=True)\n",
    "tokenizer.fit_on_texts(seqs)\n",
    "#represent input data as word rank number sequences\n",
    "X = tokenizer.texts_to_sequences(seqs)\n",
    "X = sequence.pad_sequences(X, maxlen=max_length)\n"
   ]
  },
  {
   "cell_type": "code",
   "execution_count": 13,
   "metadata": {},
   "outputs": [],
   "source": [
    "from keras.layers.normalization import BatchNormalization\n",
    "from keras.layers import Dropout, Activation\n",
    "from keras.callbacks import EarlyStopping, ModelCheckpoint\n",
    "import keras.layers as layers\n",
    "from keras import regularizers\n",
    "import keras.models as models\n",
    "\n"
   ]
  },
  {
   "cell_type": "code",
   "execution_count": 17,
   "metadata": {},
   "outputs": [
    {
     "name": "stdout",
     "output_type": "stream",
     "text": [
      "Model: \"sequential_2\"\n",
      "_________________________________________________________________\n",
      "Layer (type)                 Output Shape              Param #   \n",
      "=================================================================\n",
      "embedding_2 (Embedding)      (None, 512, 8)            208       \n",
      "_________________________________________________________________\n",
      "conv1d_3 (Conv1D)            (None, 512, 64)           3136      \n",
      "_________________________________________________________________\n",
      "activation_4 (Activation)    (None, 512, 64)           0         \n",
      "_________________________________________________________________\n",
      "batch_normalization_4 (Batch (None, 512, 64)           256       \n",
      "_________________________________________________________________\n",
      "max_pooling1d_3 (MaxPooling1 (None, 256, 64)           0         \n",
      "_________________________________________________________________\n",
      "conv1d_4 (Conv1D)            (None, 256, 32)           6176      \n",
      "_________________________________________________________________\n",
      "activation_5 (Activation)    (None, 256, 32)           0         \n",
      "_________________________________________________________________\n",
      "batch_normalization_5 (Batch (None, 256, 32)           128       \n",
      "_________________________________________________________________\n",
      "max_pooling1d_4 (MaxPooling1 (None, 128, 32)           0         \n",
      "_________________________________________________________________\n",
      "flatten_2 (Flatten)          (None, 4096)              0         \n",
      "_________________________________________________________________\n",
      "dense_3 (Dense)              (None, 128)               524416    \n",
      "_________________________________________________________________\n",
      "activation_6 (Activation)    (None, 128)               0         \n",
      "_________________________________________________________________\n",
      "dense_4 (Dense)              (None, 85)                10965     \n",
      "=================================================================\n",
      "Total params: 545,285\n",
      "Trainable params: 545,093\n",
      "Non-trainable params: 192\n",
      "_________________________________________________________________\n"
     ]
    }
   ],
   "source": [
    "embedding_dim = 8\n",
    "top_classes = 85\n",
    "\n",
    "model = Sequential()\n",
    "model.add(Embedding(len(tokenizer.word_index)+1, embedding_dim, input_length=max_length))\n",
    "model.add(Conv1D(filters=64, kernel_size=6, padding='same'))\n",
    "model.add(Activation('relu'))\n",
    "model.add(BatchNormalization())\n",
    "model.add(MaxPooling1D(pool_size=2))\n",
    "\n",
    "model.add(Conv1D(filters=32, kernel_size=3, padding='same'))\n",
    "model.add(Activation('relu'))\n",
    "model.add(BatchNormalization())\n",
    "model.add(MaxPooling1D(pool_size=2))\n",
    "\n",
    "model.add(Flatten())\n",
    "model.add(Dense(128))\n",
    "model.add(Activation('relu'))\n",
    "\n",
    "model.add(Dense(top_classes, activation='softmax'))\n",
    "model.compile(loss='categorical_crossentropy', optimizer = 'adam', metrics=['accuracy'])\n",
    "\n",
    "es = EarlyStopping(monitor='val_loss', min_delta=0, patience=5, verbose=0, mode='auto')\n",
    "model.summary()"
   ]
  },
  {
   "cell_type": "code",
   "execution_count": 18,
   "metadata": {},
   "outputs": [
    {
     "name": "stderr",
     "output_type": "stream",
     "text": [
      "/usr/local/lib/python3.6/dist-packages/tensorflow_core/python/framework/indexed_slices.py:424: UserWarning: Converting sparse IndexedSlices to a dense Tensor of unknown shape. This may consume a large amount of memory.\n",
      "  \"Converting sparse IndexedSlices to a dense Tensor of unknown shape. \"\n"
     ]
    },
    {
     "name": "stdout",
     "output_type": "stream",
     "text": [
      "Train on 75100 samples, validate on 18776 samples\n",
      "Epoch 1/200\n",
      "75100/75100 [==============================] - 82s 1ms/step - loss: 1.8502 - accuracy: 0.5609 - val_loss: 1.3988 - val_accuracy: 0.6636\n",
      "Epoch 2/200\n",
      "75100/75100 [==============================] - 81s 1ms/step - loss: 1.0015 - accuracy: 0.7477 - val_loss: 1.2933 - val_accuracy: 0.6972\n",
      "Epoch 3/200\n",
      "75100/75100 [==============================] - 81s 1ms/step - loss: 0.7349 - accuracy: 0.8037 - val_loss: 1.0858 - val_accuracy: 0.7591\n",
      "Epoch 4/200\n",
      "75100/75100 [==============================] - 81s 1ms/step - loss: 0.5910 - accuracy: 0.8369 - val_loss: 1.1981 - val_accuracy: 0.7554\n",
      "Epoch 5/200\n",
      "75100/75100 [==============================] - 81s 1ms/step - loss: 0.5031 - accuracy: 0.8577 - val_loss: 1.0865 - val_accuracy: 0.7863\n",
      "Epoch 6/200\n",
      "75100/75100 [==============================] - 81s 1ms/step - loss: 0.4352 - accuracy: 0.8730 - val_loss: 1.0823 - val_accuracy: 0.7889\n",
      "Epoch 7/200\n",
      "75100/75100 [==============================] - 81s 1ms/step - loss: 0.3935 - accuracy: 0.8839 - val_loss: 1.0714 - val_accuracy: 0.7944\n",
      "Epoch 8/200\n",
      "75100/75100 [==============================] - 81s 1ms/step - loss: 0.3577 - accuracy: 0.8917 - val_loss: 1.1129 - val_accuracy: 0.8034\n",
      "Epoch 9/200\n",
      "75100/75100 [==============================] - 81s 1ms/step - loss: 0.3310 - accuracy: 0.8987 - val_loss: 1.1129 - val_accuracy: 0.8013\n",
      "Epoch 10/200\n",
      "75100/75100 [==============================] - 81s 1ms/step - loss: 0.3056 - accuracy: 0.9043 - val_loss: 1.1364 - val_accuracy: 0.8018\n",
      "Epoch 11/200\n",
      "75100/75100 [==============================] - 81s 1ms/step - loss: 0.2920 - accuracy: 0.9087 - val_loss: 1.1715 - val_accuracy: 0.7905\n",
      "Epoch 12/200\n",
      "75100/75100 [==============================] - 81s 1ms/step - loss: 0.2744 - accuracy: 0.9124 - val_loss: 1.1916 - val_accuracy: 0.8129\n"
     ]
    }
   ],
   "source": [
    "X_train, X_test, y_train, y_test = train_test_split(X, Y, test_size=.2, random_state=42)\n",
    "history = model.fit(X_train, y_train, validation_data=(X_test, y_test), epochs=200, batch_size=32, callbacks=[es])\n"
   ]
  },
  {
   "cell_type": "code",
   "execution_count": 19,
   "metadata": {},
   "outputs": [
    {
     "name": "stdout",
     "output_type": "stream",
     "text": [
      "train-acc = 0.9233954727030625\n",
      "test-acc = 0.8128994461014061\n"
     ]
    }
   ],
   "source": [
    "train_pred = model.predict(X_train)\n",
    "test_pred = model.predict(X_test)\n",
    "print(\"train-acc = \" + str(accuracy_score(np.argmax(y_train, axis=1), np.argmax(train_pred, axis=1))))\n",
    "print(\"test-acc = \" + str(accuracy_score(np.argmax(y_test, axis=1), np.argmax(test_pred, axis=1))))"
   ]
  },
  {
   "cell_type": "code",
   "execution_count": 21,
   "metadata": {},
   "outputs": [
    {
     "data": {
      "image/png": "[encoded data removed]",
      "text/plain": [
       "<Figure size 432x288 with 1 Axes>"
      ]
     },
     "metadata": {
      "needs_background": "light"
     },
     "output_type": "display_data"
    }
   ],
   "source": [
    "import matplotlib.pyplot as plt\n",
    "%matplotlib inline\n",
    "\n",
    "loss = history.history['loss']\n",
    "val_loss = history.history['val_loss']\n",
    "epochs = range(1, len(loss) + 1)\n",
    "plt.plot(epochs, loss, 'y', label='Training loss')\n",
    "plt.plot(epochs, val_loss, 'r', label='Validation loss')\n",
    "plt.title('Training and validation loss')\n",
    "plt.xlabel('Epochs')\n",
    "plt.ylabel('Loss')\n",
    "plt.legend()\n",
    "plt.show()"
   ]
  },
  {
   "cell_type": "code",
   "execution_count": 23,
   "metadata": {},
   "outputs": [
    {
     "data": {
      "image/png": "[encoded data removed]",
      "text/plain": [
       "<Figure size 432x288 with 1 Axes>"
      ]
     },
     "metadata": {
      "needs_background": "light"
     },
     "output_type": "display_data"
    }
   ],
   "source": [
    "acc = history.history['accuracy']\n",
    "val_acc = history.history['val_accuracy']\n",
    "plt.plot(epochs, acc, 'y', label='Training acc')\n",
    "plt.plot(epochs, val_acc, 'r', label='Validation acc')\n",
    "plt.title('Training and validation accuracy')\n",
    "plt.xlabel('Epochs')\n",
    "plt.ylabel('Accuracy')\n",
    "plt.legend()\n",
    "plt.show()"
   ]
  },
  {
   "cell_type": "code",
   "execution_count": null,
   "metadata": {},
   "outputs": [],
   "source": []
  }
 ],
 "metadata": {
  "kernelspec": {
   "display_name": "Python 3",
   "language": "python",
   "name": "python3"
  },
  "language_info": {
   "codemirror_mode": {
    "name": "ipython",
    "version": 3
   },
   "file_extension": ".py",
   "mimetype": "text/x-python",
   "name": "python",
   "nbconvert_exporter": "python",
   "pygments_lexer": "ipython3",
   "version": "3.6.8"
  }
 },
 "nbformat": 4,
 "nbformat_minor": 2
}
