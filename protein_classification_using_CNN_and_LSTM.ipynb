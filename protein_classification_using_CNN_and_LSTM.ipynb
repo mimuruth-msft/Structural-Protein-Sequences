{
 "cells": [
  {
   "cell_type": "code",
   "execution_count": 1,
   "metadata": {},
   "outputs": [
    {
     "name": "stderr",
     "output_type": "stream",
     "text": [
      "Using TensorFlow backend.\n"
     ]
    }
   ],
   "source": [
    "import pandas as pd\n",
    "\n",
    "from sklearn.preprocessing import LabelBinarizer\n",
    "\n",
    "from keras.preprocessing import text, sequence\n",
    "from keras.preprocessing.text import Tokenizer\n",
    "from sklearn.model_selection import train_test_split\n",
    "\n",
    "from keras.models import Sequential\n",
    "from keras.layers import Dense, Conv1D, MaxPooling1D, Flatten\n",
    "from keras.layers import LSTM\n",
    "from keras.layers.embeddings import Embedding\n",
    "\n",
    "from sklearn.metrics import confusion_matrix, accuracy_score, classification_report\n",
    "import numpy as np\n",
    "\n",
    "%matplotlib inline"
   ]
  },
  {
   "cell_type": "code",
   "execution_count": 2,
   "metadata": {},
   "outputs": [
    {
     "data": {
      "text/html": [
       "<div>\n",
       "<style scoped>\n",
       "    .dataframe tbody tr th:only-of-type {\n",
       "        vertical-align: middle;\n",
       "    }\n",
       "\n",
       "    .dataframe tbody tr th {\n",
       "        vertical-align: top;\n",
       "    }\n",
       "\n",
       "    .dataframe thead th {\n",
       "        text-align: right;\n",
       "    }\n",
       "</style>\n",
       "<table border=\"1\" class=\"dataframe\">\n",
       "  <thead>\n",
       "    <tr style=\"text-align: right;\">\n",
       "      <th></th>\n",
       "      <th>structureId</th>\n",
       "      <th>classification</th>\n",
       "      <th>macromoleculeType</th>\n",
       "      <th>sequence</th>\n",
       "    </tr>\n",
       "  </thead>\n",
       "  <tbody>\n",
       "    <tr>\n",
       "      <th>0</th>\n",
       "      <td>100D</td>\n",
       "      <td>DNA-RNA HYBRID</td>\n",
       "      <td>DNA/RNA Hybrid</td>\n",
       "      <td>CCGGCGCCGG</td>\n",
       "    </tr>\n",
       "    <tr>\n",
       "      <th>1</th>\n",
       "      <td>100D</td>\n",
       "      <td>DNA-RNA HYBRID</td>\n",
       "      <td>DNA/RNA Hybrid</td>\n",
       "      <td>CCGGCGCCGG</td>\n",
       "    </tr>\n",
       "    <tr>\n",
       "      <th>2</th>\n",
       "      <td>101D</td>\n",
       "      <td>DNA</td>\n",
       "      <td>DNA</td>\n",
       "      <td>CGCGAATTCGCG</td>\n",
       "    </tr>\n",
       "    <tr>\n",
       "      <th>3</th>\n",
       "      <td>101D</td>\n",
       "      <td>DNA</td>\n",
       "      <td>DNA</td>\n",
       "      <td>CGCGAATTCGCG</td>\n",
       "    </tr>\n",
       "    <tr>\n",
       "      <th>4</th>\n",
       "      <td>101M</td>\n",
       "      <td>OXYGEN TRANSPORT</td>\n",
       "      <td>Protein</td>\n",
       "      <td>MVLSEGEWQLVLHVWAKVEADVAGHGQDILIRLFKSHPETLEKFDR...</td>\n",
       "    </tr>\n",
       "  </tbody>\n",
       "</table>\n",
       "</div>"
      ],
      "text/plain": [
       "  structureId    classification macromoleculeType  \\\n",
       "0        100D    DNA-RNA HYBRID    DNA/RNA Hybrid   \n",
       "1        100D    DNA-RNA HYBRID    DNA/RNA Hybrid   \n",
       "2        101D               DNA               DNA   \n",
       "3        101D               DNA               DNA   \n",
       "4        101M  OXYGEN TRANSPORT           Protein   \n",
       "\n",
       "                                            sequence  \n",
       "0                                         CCGGCGCCGG  \n",
       "1                                         CCGGCGCCGG  \n",
       "2                                       CGCGAATTCGCG  \n",
       "3                                       CGCGAATTCGCG  \n",
       "4  MVLSEGEWQLVLHVWAKVEADVAGHGQDILIRLFKSHPETLEKFDR...  "
      ]
     },
     "execution_count": 2,
     "metadata": {},
     "output_type": "execute_result"
    }
   ],
   "source": [
    "df1 = pd.read_csv('/storage/pdb/pdb_data_no_dups.csv')\n",
    "df2 = pd.read_csv('/storage/pdb/pdb_data_seq.csv')\n",
    "df = pd.merge(df1[['structureId','classification','macromoleculeType']], df2[['sequence','structureId']], on='structureId', how='inner')\n",
    "df.head()"
   ]
  },
  {
   "cell_type": "code",
   "execution_count": 3,
   "metadata": {},
   "outputs": [
    {
     "data": {
      "text/html": [
       "<div>\n",
       "<style scoped>\n",
       "    .dataframe tbody tr th:only-of-type {\n",
       "        vertical-align: middle;\n",
       "    }\n",
       "\n",
       "    .dataframe tbody tr th {\n",
       "        vertical-align: top;\n",
       "    }\n",
       "\n",
       "    .dataframe thead th {\n",
       "        text-align: right;\n",
       "    }\n",
       "</style>\n",
       "<table border=\"1\" class=\"dataframe\">\n",
       "  <thead>\n",
       "    <tr style=\"text-align: right;\">\n",
       "      <th></th>\n",
       "      <th>structureId</th>\n",
       "      <th>classification</th>\n",
       "      <th>macromoleculeType</th>\n",
       "      <th>sequence</th>\n",
       "    </tr>\n",
       "  </thead>\n",
       "  <tbody>\n",
       "    <tr>\n",
       "      <th>0</th>\n",
       "      <td>101M</td>\n",
       "      <td>OXYGEN TRANSPORT</td>\n",
       "      <td>Protein</td>\n",
       "      <td>MVLSEGEWQLVLHVWAKVEADVAGHGQDILIRLFKSHPETLEKFDR...</td>\n",
       "    </tr>\n",
       "    <tr>\n",
       "      <th>1</th>\n",
       "      <td>102L</td>\n",
       "      <td>HYDROLASE(O-GLYCOSYL)</td>\n",
       "      <td>Protein</td>\n",
       "      <td>MNIFEMLRIDEGLRLKIYKDTEGYYTIGIGHLLTKSPSLNAAAKSE...</td>\n",
       "    </tr>\n",
       "    <tr>\n",
       "      <th>2</th>\n",
       "      <td>102M</td>\n",
       "      <td>OXYGEN TRANSPORT</td>\n",
       "      <td>Protein</td>\n",
       "      <td>MVLSEGEWQLVLHVWAKVEADVAGHGQDILIRLFKSHPETLEKFDR...</td>\n",
       "    </tr>\n",
       "    <tr>\n",
       "      <th>3</th>\n",
       "      <td>103L</td>\n",
       "      <td>HYDROLASE(O-GLYCOSYL)</td>\n",
       "      <td>Protein</td>\n",
       "      <td>MNIFEMLRIDEGLRLKIYKDTEGYYTIGIGHLLTKSPSLNSLDAAK...</td>\n",
       "    </tr>\n",
       "    <tr>\n",
       "      <th>4</th>\n",
       "      <td>103M</td>\n",
       "      <td>OXYGEN TRANSPORT</td>\n",
       "      <td>Protein</td>\n",
       "      <td>MVLSEGEWQLVLHVWAKVEADVAGHGQDILIRLFKSHPETLEKFDR...</td>\n",
       "    </tr>\n",
       "  </tbody>\n",
       "</table>\n",
       "</div>"
      ],
      "text/plain": [
       "  structureId         classification macromoleculeType  \\\n",
       "0        101M       OXYGEN TRANSPORT           Protein   \n",
       "1        102L  HYDROLASE(O-GLYCOSYL)           Protein   \n",
       "2        102M       OXYGEN TRANSPORT           Protein   \n",
       "3        103L  HYDROLASE(O-GLYCOSYL)           Protein   \n",
       "4        103M       OXYGEN TRANSPORT           Protein   \n",
       "\n",
       "                                            sequence  \n",
       "0  MVLSEGEWQLVLHVWAKVEADVAGHGQDILIRLFKSHPETLEKFDR...  \n",
       "1  MNIFEMLRIDEGLRLKIYKDTEGYYTIGIGHLLTKSPSLNAAAKSE...  \n",
       "2  MVLSEGEWQLVLHVWAKVEADVAGHGQDILIRLFKSHPETLEKFDR...  \n",
       "3  MNIFEMLRIDEGLRLKIYKDTEGYYTIGIGHLLTKSPSLNSLDAAK...  \n",
       "4  MVLSEGEWQLVLHVWAKVEADVAGHGQDILIRLFKSHPETLEKFDR...  "
      ]
     },
     "execution_count": 3,
     "metadata": {},
     "output_type": "execute_result"
    }
   ],
   "source": [
    "df = df[df['macromoleculeType'] == 'Protein']\n",
    "df.reset_index(inplace=True, drop=True)\n",
    "df.head()"
   ]
  },
  {
   "cell_type": "code",
   "execution_count": 4,
   "metadata": {},
   "outputs": [
    {
     "data": {
      "text/plain": [
       "(110228, 4)"
      ]
     },
     "execution_count": 4,
     "metadata": {},
     "output_type": "execute_result"
    }
   ],
   "source": [
    "df.shape"
   ]
  },
  {
   "cell_type": "code",
   "execution_count": 5,
   "metadata": {},
   "outputs": [
    {
     "name": "stdout",
     "output_type": "stream",
     "text": [
      "<class 'pandas.core.frame.DataFrame'>\n",
      "RangeIndex: 110228 entries, 0 to 110227\n",
      "Data columns (total 4 columns):\n",
      "structureId          110228 non-null object\n",
      "classification       110228 non-null object\n",
      "macromoleculeType    110228 non-null object\n",
      "sequence             110227 non-null object\n",
      "dtypes: object(4)\n",
      "memory usage: 3.4+ MB\n"
     ]
    }
   ],
   "source": [
    "df.info()"
   ]
  },
  {
   "cell_type": "code",
   "execution_count": 6,
   "metadata": {},
   "outputs": [
    {
     "name": "stdout",
     "output_type": "stream",
     "text": [
      "<class 'pandas.core.frame.DataFrame'>\n",
      "Int64Index: 110227 entries, 0 to 110227\n",
      "Data columns (total 4 columns):\n",
      "structureId          110227 non-null object\n",
      "classification       110227 non-null object\n",
      "macromoleculeType    110227 non-null object\n",
      "sequence             110227 non-null object\n",
      "dtypes: object(4)\n",
      "memory usage: 4.2+ MB\n"
     ]
    }
   ],
   "source": [
    "df.dropna(axis=0, inplace=True)\n",
    "df.info()\n"
   ]
  },
  {
   "cell_type": "code",
   "execution_count": 7,
   "metadata": {},
   "outputs": [
    {
     "data": {
      "text/html": [
       "<div>\n",
       "<style scoped>\n",
       "    .dataframe tbody tr th:only-of-type {\n",
       "        vertical-align: middle;\n",
       "    }\n",
       "\n",
       "    .dataframe tbody tr th {\n",
       "        vertical-align: top;\n",
       "    }\n",
       "\n",
       "    .dataframe thead th {\n",
       "        text-align: right;\n",
       "    }\n",
       "</style>\n",
       "<table border=\"1\" class=\"dataframe\">\n",
       "  <thead>\n",
       "    <tr style=\"text-align: right;\">\n",
       "      <th></th>\n",
       "      <th>structureId</th>\n",
       "      <th>classification</th>\n",
       "      <th>macromoleculeType</th>\n",
       "      <th>sequence</th>\n",
       "    </tr>\n",
       "  </thead>\n",
       "  <tbody>\n",
       "    <tr>\n",
       "      <th>0</th>\n",
       "      <td>101M</td>\n",
       "      <td>oxygen transport</td>\n",
       "      <td>Protein</td>\n",
       "      <td>MVLSEGEWQLVLHVWAKVEADVAGHGQDILIRLFKSHPETLEKFDR...</td>\n",
       "    </tr>\n",
       "    <tr>\n",
       "      <th>1</th>\n",
       "      <td>102L</td>\n",
       "      <td>hydrolase/o-glycosyl</td>\n",
       "      <td>Protein</td>\n",
       "      <td>MNIFEMLRIDEGLRLKIYKDTEGYYTIGIGHLLTKSPSLNAAAKSE...</td>\n",
       "    </tr>\n",
       "    <tr>\n",
       "      <th>2</th>\n",
       "      <td>102M</td>\n",
       "      <td>oxygen transport</td>\n",
       "      <td>Protein</td>\n",
       "      <td>MVLSEGEWQLVLHVWAKVEADVAGHGQDILIRLFKSHPETLEKFDR...</td>\n",
       "    </tr>\n",
       "  </tbody>\n",
       "</table>\n",
       "</div>"
      ],
      "text/plain": [
       "  structureId        classification macromoleculeType  \\\n",
       "0        101M      oxygen transport           Protein   \n",
       "1        102L  hydrolase/o-glycosyl           Protein   \n",
       "2        102M      oxygen transport           Protein   \n",
       "\n",
       "                                            sequence  \n",
       "0  MVLSEGEWQLVLHVWAKVEADVAGHGQDILIRLFKSHPETLEKFDR...  \n",
       "1  MNIFEMLRIDEGLRLKIYKDTEGYYTIGIGHLLTKSPSLNAAAKSE...  \n",
       "2  MVLSEGEWQLVLHVWAKVEADVAGHGQDILIRLFKSHPETLEKFDR...  "
      ]
     },
     "execution_count": 7,
     "metadata": {},
     "output_type": "execute_result"
    }
   ],
   "source": [
    "df['classification'] = df['classification'].astype('str')\n",
    "df = df[df['macromoleculeType'] == \"Protein\"]\n",
    "df.reset_index(inplace=True, drop=True)\n",
    "\n",
    "df['classification'] = df['classification'].str.lower()\n",
    "df['classification'] = df['classification'].str.replace('(', '/')\n",
    "df['classification'] = df['classification'].str.replace(',', '/')\n",
    "df['classification'] = df['classification'].str.replace(', ', '/')\n",
    "df['classification'] = df['classification'].str.replace('/ ', '/')\n",
    "df['classification'] = df['classification'].str.replace(')', '')\n",
    "# pattern = '|'.join([', ', ',', '('])\n",
    "# df['classification'] = df['classification'].str.replace(pattern, '/')\n",
    "\n",
    "# Maintaing class ordering. There are the same classes with different order \n",
    "#ex. viral protein/immune system and immune system/viral protein\n",
    "df['classification'] = df['classification'].apply(lambda x:\"/\".join(sorted(x.split('/'))))\n",
    "\n",
    "df.head(3)"
   ]
  },
  {
   "cell_type": "code",
   "execution_count": 8,
   "metadata": {},
   "outputs": [
    {
     "name": "stdout",
     "output_type": "stream",
     "text": [
      "<class 'pandas.core.frame.DataFrame'>\n",
      "RangeIndex: 110227 entries, 0 to 110226\n",
      "Data columns (total 4 columns):\n",
      "structureId          110227 non-null object\n",
      "classification       110227 non-null object\n",
      "macromoleculeType    110227 non-null object\n",
      "sequence             110227 non-null object\n",
      "dtypes: object(4)\n",
      "memory usage: 3.4+ MB\n"
     ]
    }
   ],
   "source": [
    "df.info()"
   ]
  },
  {
   "cell_type": "code",
   "execution_count": 9,
   "metadata": {},
   "outputs": [
    {
     "data": {
      "text/plain": [
       "{'hydrolase': 1,\n",
       " 'transferase': 2,\n",
       " 'oxidoreductase': 3,\n",
       " 'lyase': 4,\n",
       " 'immune system': 5,\n",
       " 'structural genomics/unknown function': 6,\n",
       " 'transcription': 7,\n",
       " 'hydrolase/hydrolase inhibitor': 8,\n",
       " 'isomerase': 9,\n",
       " 'signaling protein': 10,\n",
       " 'viral protein': 11,\n",
       " 'transport protein': 12,\n",
       " 'ligase': 13,\n",
       " 'electron transport': 14,\n",
       " 'membrane protein': 15,\n",
       " 'toxin': 16,\n",
       " 'chaperone': 17,\n",
       " 'dna binding protein': 18,\n",
       " 'structural protein': 19,\n",
       " 'sugar binding protein': 20,\n",
       " 'metal binding protein': 21,\n",
       " 'protein binding': 22,\n",
       " 'virus': 23,\n",
       " 'unknown function': 24,\n",
       " 'photosynthesis': 25,\n",
       " 'contractile protein': 26,\n",
       " 'cell adhesion': 27,\n",
       " 'oxygen storage/transport': 28,\n",
       " 'protein transport': 29,\n",
       " 'rna binding protein': 30,\n",
       " 'growth factor/hormone': 31,\n",
       " 'hormone': 32,\n",
       " 'cell cycle': 33,\n",
       " 'metal transport': 34,\n",
       " 'oxygen transport': 35,\n",
       " 'apoptosis': 36,\n",
       " 'blood clotting': 37,\n",
       " 'gene regulation': 38,\n",
       " 'biosynthetic protein': 39,\n",
       " 'lectin': 40,\n",
       " 'de novo protein': 41,\n",
       " 'immunoglobulin': 42,\n",
       " 'translation': 43,\n",
       " 'cytokine': 44,\n",
       " 'antimicrobial protein': 45,\n",
       " 'lipid binding protein': 46,\n",
       " 'luminescent protein': 47,\n",
       " 'plant protein': 48,\n",
       " 'antibiotic': 49,\n",
       " 'protein fibril': 50,\n",
       " 'peptide binding protein': 51,\n",
       " 'hydrolase /o-glycosyl': 52,\n",
       " 'hydrolase inhibitor': 53,\n",
       " 'replication': 54,\n",
       " 'endocytosis/exocytosis': 55,\n",
       " 'receptor': 56,\n",
       " 'immune system/viral protein': 57,\n",
       " 'signaling protein/transferase': 58,\n",
       " 'transcription regulation': 59,\n",
       " 'hydrolase/immune system': 60,\n",
       " 'electron transport/oxidoreductase': 61,\n",
       " 'phosphotransferase': 62,\n",
       " 'transcription regulator': 63,\n",
       " 'biotin-binding protein': 64,\n",
       " 'hydrolase/o-glycosyl': 65,\n",
       " 'hydrolase/hydrolase activator': 66,\n",
       " 'lipid transport': 67,\n",
       " 'glycoprotein': 68,\n",
       " 'flavoprotein': 69,\n",
       " 'hydrolase/protein binding': 70,\n",
       " 'transferase/transferase inhibitor': 71,\n",
       " 'growth factor': 72,\n",
       " 'immunosuppressant/isomerase': 73,\n",
       " 'growth factor receptor/hormone': 74,\n",
       " 'transport': 75,\n",
       " 'nuclear protein': 76,\n",
       " 'allergen': 77,\n",
       " 'ligand binding protein': 78,\n",
       " 'calcium-binding protein': 79,\n",
       " 'hydrolase/inhibitor': 80,\n",
       " 'endonuclease': 81,\n",
       " 'serine protease': 82,\n",
       " 'viral protein/virus': 83,\n",
       " 'fluorescent protein': 84,\n",
       " 'enterotoxin': 85}"
      ]
     },
     "execution_count": 9,
     "metadata": {},
     "output_type": "execute_result"
    }
   ],
   "source": [
    "class_dict = dict()\n",
    "count = 1\n",
    "\n",
    "classes = df['classification'].value_counts().items()\n",
    "\n",
    "for cat, num in classes:\n",
    "    \n",
    "    # Remove all other classes that have number of values are less than 100\n",
    "    if num < 100:\n",
    "        temp = df['classification'] == cat\n",
    "        df = df[~temp].copy()\n",
    "        continue\n",
    "        \n",
    "        \n",
    "        \n",
    "    if num >= 100:\n",
    "        class_dict[cat] = count\n",
    "        count += 1\n",
    "\n",
    "class_dict"
   ]
  },
  {
   "cell_type": "code",
   "execution_count": 10,
   "metadata": {},
   "outputs": [
    {
     "data": {
      "text/html": [
       "<div>\n",
       "<style scoped>\n",
       "    .dataframe tbody tr th:only-of-type {\n",
       "        vertical-align: middle;\n",
       "    }\n",
       "\n",
       "    .dataframe tbody tr th {\n",
       "        vertical-align: top;\n",
       "    }\n",
       "\n",
       "    .dataframe thead th {\n",
       "        text-align: right;\n",
       "    }\n",
       "</style>\n",
       "<table border=\"1\" class=\"dataframe\">\n",
       "  <thead>\n",
       "    <tr style=\"text-align: right;\">\n",
       "      <th></th>\n",
       "      <th>structureId</th>\n",
       "      <th>classification</th>\n",
       "      <th>macromoleculeType</th>\n",
       "      <th>sequence</th>\n",
       "    </tr>\n",
       "  </thead>\n",
       "  <tbody>\n",
       "    <tr>\n",
       "      <th>0</th>\n",
       "      <td>101M</td>\n",
       "      <td>oxygen transport</td>\n",
       "      <td>Protein</td>\n",
       "      <td>MVLSEGEWQLVLHVWAKVEADVAGHGQDILIRLFKSHPETLEKFDR...</td>\n",
       "    </tr>\n",
       "    <tr>\n",
       "      <th>1</th>\n",
       "      <td>102L</td>\n",
       "      <td>hydrolase/o-glycosyl</td>\n",
       "      <td>Protein</td>\n",
       "      <td>MNIFEMLRIDEGLRLKIYKDTEGYYTIGIGHLLTKSPSLNAAAKSE...</td>\n",
       "    </tr>\n",
       "    <tr>\n",
       "      <th>2</th>\n",
       "      <td>102M</td>\n",
       "      <td>oxygen transport</td>\n",
       "      <td>Protein</td>\n",
       "      <td>MVLSEGEWQLVLHVWAKVEADVAGHGQDILIRLFKSHPETLEKFDR...</td>\n",
       "    </tr>\n",
       "    <tr>\n",
       "      <th>3</th>\n",
       "      <td>103L</td>\n",
       "      <td>hydrolase/o-glycosyl</td>\n",
       "      <td>Protein</td>\n",
       "      <td>MNIFEMLRIDEGLRLKIYKDTEGYYTIGIGHLLTKSPSLNSLDAAK...</td>\n",
       "    </tr>\n",
       "    <tr>\n",
       "      <th>4</th>\n",
       "      <td>103M</td>\n",
       "      <td>oxygen transport</td>\n",
       "      <td>Protein</td>\n",
       "      <td>MVLSEGEWQLVLHVWAKVEADVAGHGQDILIRLFKSHPETLEKFDR...</td>\n",
       "    </tr>\n",
       "  </tbody>\n",
       "</table>\n",
       "</div>"
      ],
      "text/plain": [
       "  structureId        classification macromoleculeType  \\\n",
       "0        101M      oxygen transport           Protein   \n",
       "1        102L  hydrolase/o-glycosyl           Protein   \n",
       "2        102M      oxygen transport           Protein   \n",
       "3        103L  hydrolase/o-glycosyl           Protein   \n",
       "4        103M      oxygen transport           Protein   \n",
       "\n",
       "                                            sequence  \n",
       "0  MVLSEGEWQLVLHVWAKVEADVAGHGQDILIRLFKSHPETLEKFDR...  \n",
       "1  MNIFEMLRIDEGLRLKIYKDTEGYYTIGIGHLLTKSPSLNAAAKSE...  \n",
       "2  MVLSEGEWQLVLHVWAKVEADVAGHGQDILIRLFKSHPETLEKFDR...  \n",
       "3  MNIFEMLRIDEGLRLKIYKDTEGYYTIGIGHLLTKSPSLNSLDAAK...  \n",
       "4  MVLSEGEWQLVLHVWAKVEADVAGHGQDILIRLFKSHPETLEKFDR...  "
      ]
     },
     "execution_count": 10,
     "metadata": {},
     "output_type": "execute_result"
    }
   ],
   "source": [
    "\n",
    "df.head()"
   ]
  },
  {
   "cell_type": "code",
   "execution_count": 11,
   "metadata": {},
   "outputs": [
    {
     "name": "stdout",
     "output_type": "stream",
     "text": [
      "<class 'pandas.core.frame.DataFrame'>\n",
      "Int64Index: 93876 entries, 0 to 110226\n",
      "Data columns (total 4 columns):\n",
      "structureId          93876 non-null object\n",
      "classification       93876 non-null object\n",
      "macromoleculeType    93876 non-null object\n",
      "sequence             93876 non-null object\n",
      "dtypes: object(4)\n",
      "memory usage: 3.6+ MB\n"
     ]
    }
   ],
   "source": [
    "df.info()"
   ]
  },
  {
   "cell_type": "code",
   "execution_count": 12,
   "metadata": {},
   "outputs": [
    {
     "data": {
      "text/html": [
       "<div>\n",
       "<style scoped>\n",
       "    .dataframe tbody tr th:only-of-type {\n",
       "        vertical-align: middle;\n",
       "    }\n",
       "\n",
       "    .dataframe tbody tr th {\n",
       "        vertical-align: top;\n",
       "    }\n",
       "\n",
       "    .dataframe thead th {\n",
       "        text-align: right;\n",
       "    }\n",
       "</style>\n",
       "<table border=\"1\" class=\"dataframe\">\n",
       "  <thead>\n",
       "    <tr style=\"text-align: right;\">\n",
       "      <th></th>\n",
       "      <th>structureId</th>\n",
       "      <th>classification</th>\n",
       "      <th>macromoleculeType</th>\n",
       "      <th>sequence</th>\n",
       "    </tr>\n",
       "  </thead>\n",
       "  <tbody>\n",
       "    <tr>\n",
       "      <th>count</th>\n",
       "      <td>93876</td>\n",
       "      <td>93876</td>\n",
       "      <td>93876</td>\n",
       "      <td>93876</td>\n",
       "    </tr>\n",
       "    <tr>\n",
       "      <th>unique</th>\n",
       "      <td>41940</td>\n",
       "      <td>85</td>\n",
       "      <td>1</td>\n",
       "      <td>31070</td>\n",
       "    </tr>\n",
       "    <tr>\n",
       "      <th>top</th>\n",
       "      <td>1GAV</td>\n",
       "      <td>hydrolase</td>\n",
       "      <td>Protein</td>\n",
       "      <td>GIVEQCCTSICSLYQLENYCN</td>\n",
       "    </tr>\n",
       "    <tr>\n",
       "      <th>freq</th>\n",
       "      <td>45</td>\n",
       "      <td>14858</td>\n",
       "      <td>93876</td>\n",
       "      <td>277</td>\n",
       "    </tr>\n",
       "  </tbody>\n",
       "</table>\n",
       "</div>"
      ],
      "text/plain": [
       "       structureId classification macromoleculeType               sequence\n",
       "count        93876          93876             93876                  93876\n",
       "unique       41940             85                 1                  31070\n",
       "top           1GAV      hydrolase           Protein  GIVEQCCTSICSLYQLENYCN\n",
       "freq            45          14858             93876                    277"
      ]
     },
     "execution_count": 12,
     "metadata": {},
     "output_type": "execute_result"
    }
   ],
   "source": [
    "df.describe()"
   ]
  },
  {
   "cell_type": "code",
   "execution_count": 13,
   "metadata": {},
   "outputs": [],
   "source": [
    "# Transform labels to one-hot\n",
    "lb = LabelBinarizer()\n",
    "Y = lb.fit_transform(df.classification)"
   ]
  },
  {
   "cell_type": "code",
   "execution_count": 14,
   "metadata": {},
   "outputs": [],
   "source": [
    "max_length = 512 #256 # discared after 512 length\n",
    "seqs = df.sequence.values\n",
    "#create and fit tokenizer\n",
    "tokenizer = Tokenizer(char_level=True)\n",
    "tokenizer.fit_on_texts(seqs)\n",
    "#represent input data as word rank number sequences\n",
    "X = tokenizer.texts_to_sequences(seqs)\n",
    "X = sequence.pad_sequences(X, maxlen=max_length)\n"
   ]
  },
  {
   "cell_type": "code",
   "execution_count": 15,
   "metadata": {},
   "outputs": [
    {
     "data": {
      "text/plain": [
       "2512"
      ]
     },
     "execution_count": 15,
     "metadata": {},
     "output_type": "execute_result"
    }
   ],
   "source": [
    "lengths = [len(s) for s in seqs]\n",
    "max(lengths)"
   ]
  },
  {
   "cell_type": "markdown",
   "metadata": {},
   "source": [
    "### 1D CNN"
   ]
  },
  {
   "cell_type": "code",
   "execution_count": 16,
   "metadata": {},
   "outputs": [
    {
     "name": "stdout",
     "output_type": "stream",
     "text": [
      "Model: \"sequential_1\"\n",
      "_________________________________________________________________\n",
      "Layer (type)                 Output Shape              Param #   \n",
      "=================================================================\n",
      "embedding_1 (Embedding)      (None, 512, 8)            208       \n",
      "_________________________________________________________________\n",
      "conv1d_1 (Conv1D)            (None, 512, 64)           3136      \n",
      "_________________________________________________________________\n",
      "max_pooling1d_1 (MaxPooling1 (None, 256, 64)           0         \n",
      "_________________________________________________________________\n",
      "conv1d_2 (Conv1D)            (None, 256, 32)           6176      \n",
      "_________________________________________________________________\n",
      "max_pooling1d_2 (MaxPooling1 (None, 128, 32)           0         \n",
      "_________________________________________________________________\n",
      "flatten_1 (Flatten)          (None, 4096)              0         \n",
      "_________________________________________________________________\n",
      "dense_1 (Dense)              (None, 128)               524416    \n",
      "_________________________________________________________________\n",
      "dense_2 (Dense)              (None, 85)                10965     \n",
      "=================================================================\n",
      "Total params: 544,901\n",
      "Trainable params: 544,901\n",
      "Non-trainable params: 0\n",
      "_________________________________________________________________\n",
      "None\n"
     ]
    }
   ],
   "source": [
    "embedding_dim = 8\n",
    "top_classes = 85\n",
    "\n",
    "model = Sequential()\n",
    "model.add(Embedding(len(tokenizer.word_index)+1, embedding_dim, input_length=max_length))\n",
    "model.add(Conv1D(filters=64, kernel_size=6, padding='same', activation='relu'))\n",
    "model.add(MaxPooling1D(pool_size=2))\n",
    "model.add(Conv1D(filters=32, kernel_size=3, padding='same', activation='relu'))\n",
    "model.add(MaxPooling1D(pool_size=2))\n",
    "model.add(Flatten())\n",
    "model.add(Dense(128, activation='relu'))\n",
    "model.add(Dense(top_classes, activation='softmax'))\n",
    "model.compile(loss='categorical_crossentropy', optimizer='adam', metrics=['accuracy'])\n",
    "print(model.summary())"
   ]
  },
  {
   "cell_type": "code",
   "execution_count": 17,
   "metadata": {},
   "outputs": [
    {
     "name": "stderr",
     "output_type": "stream",
     "text": [
      "/usr/local/lib/python3.6/dist-packages/tensorflow_core/python/framework/indexed_slices.py:424: UserWarning: Converting sparse IndexedSlices to a dense Tensor of unknown shape. This may consume a large amount of memory.\n",
      "  \"Converting sparse IndexedSlices to a dense Tensor of unknown shape. \"\n"
     ]
    },
    {
     "name": "stdout",
     "output_type": "stream",
     "text": [
      "Train on 75100 samples, validate on 18776 samples\n",
      "Epoch 1/20\n",
      "75100/75100 [==============================] - 27s 363us/step - loss: 2.8689 - accuracy: 0.2824 - val_loss: 2.2931 - val_accuracy: 0.4254\n",
      "Epoch 2/20\n",
      "75100/75100 [==============================] - 27s 356us/step - loss: 1.9257 - accuracy: 0.5205 - val_loss: 1.7131 - val_accuracy: 0.5769\n",
      "Epoch 3/20\n",
      "75100/75100 [==============================] - 27s 360us/step - loss: 1.4240 - accuracy: 0.6463 - val_loss: 1.4208 - val_accuracy: 0.6552\n",
      "Epoch 4/20\n",
      "75100/75100 [==============================] - 27s 360us/step - loss: 1.1472 - accuracy: 0.7093 - val_loss: 1.2729 - val_accuracy: 0.6956\n",
      "Epoch 5/20\n",
      "75100/75100 [==============================] - 26s 352us/step - loss: 0.9713 - accuracy: 0.7516 - val_loss: 1.1856 - val_accuracy: 0.7211\n",
      "Epoch 6/20\n",
      "75100/75100 [==============================] - 27s 355us/step - loss: 0.8520 - accuracy: 0.7780 - val_loss: 1.1425 - val_accuracy: 0.7379\n",
      "Epoch 7/20\n",
      "75100/75100 [==============================] - 27s 355us/step - loss: 0.7554 - accuracy: 0.8002 - val_loss: 1.1284 - val_accuracy: 0.7531\n",
      "Epoch 8/20\n",
      "75100/75100 [==============================] - 27s 357us/step - loss: 0.6842 - accuracy: 0.8174 - val_loss: 1.0931 - val_accuracy: 0.7661\n",
      "Epoch 9/20\n",
      "75100/75100 [==============================] - 27s 361us/step - loss: 0.6246 - accuracy: 0.8313 - val_loss: 1.1139 - val_accuracy: 0.7685\n",
      "Epoch 10/20\n",
      "75100/75100 [==============================] - 28s 371us/step - loss: 0.5780 - accuracy: 0.8427 - val_loss: 1.0951 - val_accuracy: 0.7798\n",
      "Epoch 11/20\n",
      "75100/75100 [==============================] - 28s 369us/step - loss: 0.5344 - accuracy: 0.8514 - val_loss: 1.0979 - val_accuracy: 0.7870\n",
      "Epoch 12/20\n",
      "75100/75100 [==============================] - 27s 353us/step - loss: 0.5005 - accuracy: 0.8584 - val_loss: 1.1370 - val_accuracy: 0.7832\n",
      "Epoch 13/20\n",
      "75100/75100 [==============================] - 27s 358us/step - loss: 0.4710 - accuracy: 0.8666 - val_loss: 1.1644 - val_accuracy: 0.7929\n",
      "Epoch 14/20\n",
      "75100/75100 [==============================] - 27s 353us/step - loss: 0.4408 - accuracy: 0.8743 - val_loss: 1.2119 - val_accuracy: 0.7887\n",
      "Epoch 15/20\n",
      "75100/75100 [==============================] - 27s 354us/step - loss: 0.4198 - accuracy: 0.8795 - val_loss: 1.1995 - val_accuracy: 0.7960\n",
      "Epoch 16/20\n",
      "75100/75100 [==============================] - 27s 354us/step - loss: 0.3975 - accuracy: 0.8856 - val_loss: 1.2085 - val_accuracy: 0.7968\n",
      "Epoch 17/20\n",
      "75100/75100 [==============================] - 27s 354us/step - loss: 0.3815 - accuracy: 0.8890 - val_loss: 1.2364 - val_accuracy: 0.8016\n",
      "Epoch 18/20\n",
      "75100/75100 [==============================] - 27s 354us/step - loss: 0.3624 - accuracy: 0.8937 - val_loss: 1.2687 - val_accuracy: 0.8040\n",
      "Epoch 19/20\n",
      "75100/75100 [==============================] - 27s 354us/step - loss: 0.3468 - accuracy: 0.8970 - val_loss: 1.2746 - val_accuracy: 0.8100\n",
      "Epoch 20/20\n",
      "75100/75100 [==============================] - 27s 356us/step - loss: 0.3311 - accuracy: 0.9019 - val_loss: 1.2743 - val_accuracy: 0.8067\n"
     ]
    },
    {
     "data": {
      "text/plain": [
       "<keras.callbacks.callbacks.History at 0x7fec0339f2b0>"
      ]
     },
     "execution_count": 17,
     "metadata": {},
     "output_type": "execute_result"
    }
   ],
   "source": [
    "X_train, X_test, y_train, y_test = train_test_split(X, Y, test_size=.2, random_state=42)\n",
    "model.fit(X_train, y_train, validation_data=(X_test, y_test), epochs=20, batch_size=128)\n"
   ]
  },
  {
   "cell_type": "code",
   "execution_count": 18,
   "metadata": {},
   "outputs": [
    {
     "name": "stdout",
     "output_type": "stream",
     "text": [
      "train-acc = 0.9173501997336884\n",
      "test-acc = 0.8066680869194717\n"
     ]
    }
   ],
   "source": [
    "train_pred = model.predict(X_train)\n",
    "test_pred = model.predict(X_test)\n",
    "print(\"train-acc = \" + str(accuracy_score(np.argmax(y_train, axis=1), np.argmax(train_pred, axis=1))))\n",
    "print(\"test-acc = \" + str(accuracy_score(np.argmax(y_test, axis=1), np.argmax(test_pred, axis=1))))"
   ]
  },
  {
   "cell_type": "code",
   "execution_count": 110,
   "metadata": {},
   "outputs": [
    {
     "name": "stdout",
     "output_type": "stream",
     "text": [
      "                                      precision    recall  f1-score   support\n",
      "\n",
      "                            allergen       0.86      0.75      0.80        24\n",
      "                          antibiotic       0.83      0.67      0.74        60\n",
      "               antimicrobial protein       0.70      0.69      0.69        77\n",
      "                           apoptosis       0.69      0.68      0.68        80\n",
      "                biosynthetic protein       0.79      0.78      0.79        74\n",
      "              biotin-binding protein       0.90      1.00      0.95        26\n",
      "                      blood clotting       0.66      0.72      0.69        68\n",
      "             calcium-binding protein       0.36      0.45      0.40        20\n",
      "                       cell adhesion       0.84      0.42      0.56       144\n",
      "                          cell cycle       0.76      0.49      0.60        97\n",
      "                           chaperone       0.82      0.86      0.84       245\n",
      "                 contractile protein       0.95      0.81      0.87       162\n",
      "                            cytokine       0.65      0.81      0.72        72\n",
      "                     de novo protein       0.55      0.54      0.54        69\n",
      "                 dna binding protein       0.67      0.64      0.65       233\n",
      "                  electron transport       0.83      0.78      0.81       322\n",
      "   electron transport/oxidoreductase       0.67      0.33      0.44        30\n",
      "              endocytosis/exocytosis       0.59      0.61      0.60        38\n",
      "                        endonuclease       1.00      0.07      0.12        15\n",
      "                         enterotoxin       0.78      0.32      0.45        22\n",
      "                        flavoprotein       0.90      0.82      0.86        34\n",
      "                 fluorescent protein       1.00      0.63      0.77        19\n",
      "                     gene regulation       0.59      0.36      0.45        74\n",
      "                        glycoprotein       0.71      0.50      0.59        30\n",
      "                       growth factor       0.83      0.87      0.85        23\n",
      "      growth factor receptor/hormone       0.58      0.37      0.45        30\n",
      "               growth factor/hormone       0.83      0.39      0.53       135\n",
      "                             hormone       0.63      0.90      0.74       105\n",
      "                           hydrolase       0.84      0.85      0.85      3038\n",
      "               hydrolase /o-glycosyl       0.74      0.57      0.64        44\n",
      "                 hydrolase inhibitor       0.54      0.44      0.48        48\n",
      "       hydrolase/hydrolase activator       0.62      0.83      0.71        36\n",
      "       hydrolase/hydrolase inhibitor       0.69      0.56      0.62       456\n",
      "             hydrolase/immune system       0.61      0.37      0.46        38\n",
      "                 hydrolase/inhibitor       0.36      0.46      0.41        28\n",
      "                hydrolase/o-glycosyl       0.30      0.23      0.26        31\n",
      "           hydrolase/protein binding       0.72      0.52      0.60        25\n",
      "                       immune system       0.74      0.87      0.80       704\n",
      "         immune system/viral protein       0.55      0.53      0.54        40\n",
      "                      immunoglobulin       0.73      0.49      0.58        76\n",
      "         immunosuppressant/isomerase       0.86      0.96      0.91        26\n",
      "                           isomerase       0.93      0.90      0.91       437\n",
      "                              lectin       0.62      0.70      0.66        70\n",
      "              ligand binding protein       0.88      0.58      0.70        26\n",
      "                              ligase       0.87      0.81      0.84       331\n",
      "               lipid binding protein       0.83      0.65      0.73        60\n",
      "                     lipid transport       0.89      0.67      0.76        36\n",
      "                 luminescent protein       0.87      0.97      0.92        62\n",
      "                               lyase       0.92      0.96      0.94       883\n",
      "                    membrane protein       0.79      0.74      0.76       274\n",
      "               metal binding protein       0.73      0.59      0.65       241\n",
      "                     metal transport       0.72      0.80      0.76       115\n",
      "                     nuclear protein       0.69      0.45      0.55        20\n",
      "                      oxidoreductase       0.91      0.95      0.93      2197\n",
      "            oxygen storage/transport       0.82      0.45      0.58       147\n",
      "                    oxygen transport       0.44      0.85      0.58        94\n",
      "             peptide binding protein       0.88      0.78      0.82        45\n",
      "                  phosphotransferase       0.61      0.56      0.58        34\n",
      "                      photosynthesis       0.78      0.74      0.76       140\n",
      "                       plant protein       0.92      0.72      0.81        68\n",
      "                     protein binding       0.60      0.45      0.51       224\n",
      "                      protein fibril       0.98      0.94      0.96        50\n",
      "                   protein transport       0.68      0.68      0.68       139\n",
      "                            receptor       0.84      0.73      0.78        44\n",
      "                         replication       0.75      0.71      0.73        38\n",
      "                 rna binding protein       0.53      0.57      0.55       129\n",
      "                     serine protease       0.50      0.37      0.42        19\n",
      "                   signaling protein       0.54      0.67      0.60       394\n",
      "       signaling protein/transferase       0.76      0.62      0.68        47\n",
      "structural genomics/unknown function       0.73      0.73      0.73       650\n",
      "                  structural protein       0.71      0.65      0.68       243\n",
      "               sugar binding protein       0.86      0.78      0.82       202\n",
      "                               toxin       0.62      0.81      0.70       244\n",
      "                       transcription       0.61      0.82      0.70       531\n",
      "            transcription regulation       0.68      0.59      0.63        32\n",
      "             transcription regulator       0.50      0.28      0.36        29\n",
      "                         transferase       0.87      0.90      0.89      2367\n",
      "   transferase/transferase inhibitor       0.20      0.03      0.06        29\n",
      "                         translation       0.90      0.69      0.78        75\n",
      "                           transport       0.92      0.48      0.63        25\n",
      "                   transport protein       0.67      0.67      0.67       322\n",
      "                    unknown function       0.68      0.57      0.62       191\n",
      "                       viral protein       0.72      0.78      0.75       328\n",
      "                 viral protein/virus       1.00      0.58      0.74        24\n",
      "                               virus       0.90      0.80      0.85       202\n",
      "\n",
      "                            accuracy                           0.79     18776\n",
      "                           macro avg       0.73      0.64      0.67     18776\n",
      "                        weighted avg       0.80      0.79      0.79     18776\n",
      "\n"
     ]
    }
   ],
   "source": [
    "print(classification_report(np.argmax(y_test, axis=1), np.argmax(test_pred, axis=1), target_names=lb.classes_))"
   ]
  },
  {
   "cell_type": "markdown",
   "metadata": {},
   "source": [
    "### LSTM"
   ]
  },
  {
   "cell_type": "code",
   "execution_count": 16,
   "metadata": {},
   "outputs": [
    {
     "name": "stdout",
     "output_type": "stream",
     "text": [
      "Model: \"sequential_1\"\n",
      "_________________________________________________________________\n",
      "Layer (type)                 Output Shape              Param #   \n",
      "=================================================================\n",
      "embedding_1 (Embedding)      (None, None, 8)           208       \n",
      "_________________________________________________________________\n",
      "lstm_1 (LSTM)                (None, 128)               70144     \n",
      "_________________________________________________________________\n",
      "dense_1 (Dense)              (None, 85)                10965     \n",
      "=================================================================\n",
      "Total params: 81,317\n",
      "Trainable params: 81,317\n",
      "Non-trainable params: 0\n",
      "_________________________________________________________________\n",
      "None\n"
     ]
    }
   ],
   "source": [
    "embedding_dim = 8\n",
    "lstm_out = 128\n",
    "batch_size = 128\n",
    "top_classes = 85\n",
    "\n",
    "model1 = Sequential()\n",
    "model1.add(Embedding(len(tokenizer.word_index)+1, 8))\n",
    "model1.add(LSTM(128, dropout=0.2, recurrent_dropout=0.2))\n",
    "model1.add(Dense(top_classes,activation='softmax'))\n",
    "model1.compile(loss = 'categorical_crossentropy', optimizer='adam',metrics = ['accuracy'])\n",
    "print(model1.summary())\n"
   ]
  },
  {
   "cell_type": "code",
   "execution_count": 18,
   "metadata": {},
   "outputs": [
    {
     "name": "stdout",
     "output_type": "stream",
     "text": [
      "Train on 75100 samples, validate on 18776 samples\n",
      "Epoch 1/15\n",
      "75100/75100 [==============================] - 1220s 16ms/step - loss: 3.3457 - accuracy: 0.1641 - val_loss: 3.1177 - val_accuracy: 0.2071\n",
      "Epoch 2/15\n",
      "75100/75100 [==============================] - 1220s 16ms/step - loss: 3.0271 - accuracy: 0.2150 - val_loss: 2.8611 - val_accuracy: 0.2544\n",
      "Epoch 3/15\n",
      "75100/75100 [==============================] - 1220s 16ms/step - loss: 2.8649 - accuracy: 0.2508 - val_loss: 2.7182 - val_accuracy: 0.2871\n",
      "Epoch 4/15\n",
      "75100/75100 [==============================] - 1219s 16ms/step - loss: 2.7318 - accuracy: 0.2788 - val_loss: 2.5822 - val_accuracy: 0.3187\n",
      "Epoch 5/15\n",
      "75100/75100 [==============================] - 1219s 16ms/step - loss: 2.6254 - accuracy: 0.3058 - val_loss: 2.4708 - val_accuracy: 0.3447\n",
      "Epoch 6/15\n",
      "75100/75100 [==============================] - 1218s 16ms/step - loss: 2.5188 - accuracy: 0.3330 - val_loss: 2.4158 - val_accuracy: 0.3675\n",
      "Epoch 7/15\n",
      "75100/75100 [==============================] - 1216s 16ms/step - loss: 2.4320 - accuracy: 0.3569 - val_loss: 2.2765 - val_accuracy: 0.4037\n",
      "Epoch 8/15\n",
      "75100/75100 [==============================] - 1218s 16ms/step - loss: 2.3562 - accuracy: 0.3751 - val_loss: 2.1771 - val_accuracy: 0.4267\n",
      "Epoch 9/15\n",
      "75100/75100 [==============================] - 1414s 19ms/step - loss: 2.2818 - accuracy: 0.3946 - val_loss: 2.1089 - val_accuracy: 0.4511\n",
      "Epoch 10/15\n",
      "75100/75100 [==============================] - 1476s 20ms/step - loss: 2.2235 - accuracy: 0.4112 - val_loss: 2.0383 - val_accuracy: 0.4690\n",
      "Epoch 11/15\n",
      "75100/75100 [==============================] - 1386s 18ms/step - loss: 2.1710 - accuracy: 0.4242 - val_loss: 1.9716 - val_accuracy: 0.4896\n",
      "Epoch 12/15\n",
      "75100/75100 [==============================] - 1271s 17ms/step - loss: 2.1252 - accuracy: 0.4365 - val_loss: 1.9159 - val_accuracy: 0.5026\n",
      "Epoch 13/15\n",
      "75100/75100 [==============================] - 1218s 16ms/step - loss: 2.0862 - accuracy: 0.4466 - val_loss: 1.8760 - val_accuracy: 0.5143\n",
      "Epoch 14/15\n",
      "75100/75100 [==============================] - 1219s 16ms/step - loss: 2.0520 - accuracy: 0.4569 - val_loss: 1.8572 - val_accuracy: 0.5221\n",
      "Epoch 15/15\n",
      "75100/75100 [==============================] - 1219s 16ms/step - loss: 2.0327 - accuracy: 0.4625 - val_loss: 1.8220 - val_accuracy: 0.5304\n"
     ]
    },
    {
     "data": {
      "text/plain": [
       "<keras.callbacks.callbacks.History at 0x7f3080060668>"
      ]
     },
     "execution_count": 18,
     "metadata": {},
     "output_type": "execute_result"
    }
   ],
   "source": [
    "X_train, X_test, y_train, y_test = train_test_split(X, Y, test_size=.2, random_state=42)\n",
    "model1.fit(X_train, y_train, batch_size=32, epochs=15, validation_data=(X_test, y_test))\n"
   ]
  },
  {
   "cell_type": "code",
   "execution_count": 21,
   "metadata": {},
   "outputs": [
    {
     "name": "stdout",
     "output_type": "stream",
     "text": [
      "train-acc = 0.5498135818908122\n",
      "test-acc = 0.5304111631870473\n"
     ]
    }
   ],
   "source": [
    "train_pred = model1.predict(X_train)\n",
    "test_pred = model1.predict(X_test)\n",
    "print(\"train-acc = \" + str(accuracy_score(np.argmax(y_train, axis=1), np.argmax(train_pred, axis=1))))\n",
    "print(\"test-acc = \" + str(accuracy_score(np.argmax(y_test, axis=1), np.argmax(test_pred, axis=1))))"
   ]
  },
  {
   "cell_type": "code",
   "execution_count": null,
   "metadata": {},
   "outputs": [],
   "source": []
  },
  {
   "cell_type": "code",
   "execution_count": null,
   "metadata": {},
   "outputs": [],
   "source": []
  },
  {
   "cell_type": "code",
   "execution_count": null,
   "metadata": {},
   "outputs": [],
   "source": []
  }
 ],
 "metadata": {
  "kernelspec": {
   "display_name": "Python 3",
   "language": "python",
   "name": "python3"
  },
  "language_info": {
   "codemirror_mode": {
    "name": "ipython",
    "version": 3
   },
   "file_extension": ".py",
   "mimetype": "text/x-python",
   "name": "python",
   "nbconvert_exporter": "python",
   "pygments_lexer": "ipython3",
   "version": "3.6.8"
  }
 },
 "nbformat": 4,
 "nbformat_minor": 2
}
